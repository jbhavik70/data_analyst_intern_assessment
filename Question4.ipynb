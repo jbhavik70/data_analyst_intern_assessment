{
  "nbformat": 4,
  "nbformat_minor": 0,
  "metadata": {
    "colab": {
      "provenance": []
    },
    "kernelspec": {
      "name": "python3",
      "display_name": "Python 3"
    },
    "language_info": {
      "name": "python"
    }
  },
  "cells": [
    {
      "cell_type": "markdown",
      "source": [
        "**Question 4**\n",
        "\n",
        "What media type performs the best?"
      ],
      "metadata": {
        "id": "0o_qnbpzWDyv"
      }
    },
    {
      "cell_type": "markdown",
      "source": [
        "**1. Import the data set**"
      ],
      "metadata": {
        "id": "5Zm_OOI-WKa6"
      }
    },
    {
      "cell_type": "code",
      "execution_count": null,
      "metadata": {
        "colab": {
          "base_uri": "https://localhost:8080/",
          "height": 206
        },
        "id": "aYlwBPKaWCBO",
        "outputId": "d40ca16a-fe3e-44bb-ce5e-718da5b380ca"
      },
      "outputs": [
        {
          "output_type": "execute_result",
          "data": {
            "text/plain": [
              "           Published Date Account Account Type          Campaign Name  \\\n",
              "0 2023-03-31 19:55:43.192    CSGO      TWITTER                   N/A    \n",
              "1 2023-03-31 19:49:35.243    CSGO      TWITTER                   N/A    \n",
              "2 2023-03-31 19:49:33.535    CSGO      TWITTER                   N/A    \n",
              "3 2023-03-31 19:49:31.583    CSGO      TWITTER                   N/A    \n",
              "4 2023-03-31 19:43:42.590    CSGO      TWITTER  Community Engagement    \n",
              "\n",
              "   Total Impressions  Total Engagements Media Type  \n",
              "0                  0                  0       Text  \n",
              "1                  0                  0       Text  \n",
              "2                  0                  0       Text  \n",
              "3                  0                  0       Text  \n",
              "4               9517               1215      Video  "
            ],
            "text/html": [
              "\n",
              "  <div id=\"df-8ed4401b-6f0a-413e-b60b-c1b1eeb0ab32\">\n",
              "    <div class=\"colab-df-container\">\n",
              "      <div>\n",
              "<style scoped>\n",
              "    .dataframe tbody tr th:only-of-type {\n",
              "        vertical-align: middle;\n",
              "    }\n",
              "\n",
              "    .dataframe tbody tr th {\n",
              "        vertical-align: top;\n",
              "    }\n",
              "\n",
              "    .dataframe thead th {\n",
              "        text-align: right;\n",
              "    }\n",
              "</style>\n",
              "<table border=\"1\" class=\"dataframe\">\n",
              "  <thead>\n",
              "    <tr style=\"text-align: right;\">\n",
              "      <th></th>\n",
              "      <th>Published Date</th>\n",
              "      <th>Account</th>\n",
              "      <th>Account Type</th>\n",
              "      <th>Campaign Name</th>\n",
              "      <th>Total Impressions</th>\n",
              "      <th>Total Engagements</th>\n",
              "      <th>Media Type</th>\n",
              "    </tr>\n",
              "  </thead>\n",
              "  <tbody>\n",
              "    <tr>\n",
              "      <th>0</th>\n",
              "      <td>2023-03-31 19:55:43.192</td>\n",
              "      <td>CSGO</td>\n",
              "      <td>TWITTER</td>\n",
              "      <td>N/A</td>\n",
              "      <td>0</td>\n",
              "      <td>0</td>\n",
              "      <td>Text</td>\n",
              "    </tr>\n",
              "    <tr>\n",
              "      <th>1</th>\n",
              "      <td>2023-03-31 19:49:35.243</td>\n",
              "      <td>CSGO</td>\n",
              "      <td>TWITTER</td>\n",
              "      <td>N/A</td>\n",
              "      <td>0</td>\n",
              "      <td>0</td>\n",
              "      <td>Text</td>\n",
              "    </tr>\n",
              "    <tr>\n",
              "      <th>2</th>\n",
              "      <td>2023-03-31 19:49:33.535</td>\n",
              "      <td>CSGO</td>\n",
              "      <td>TWITTER</td>\n",
              "      <td>N/A</td>\n",
              "      <td>0</td>\n",
              "      <td>0</td>\n",
              "      <td>Text</td>\n",
              "    </tr>\n",
              "    <tr>\n",
              "      <th>3</th>\n",
              "      <td>2023-03-31 19:49:31.583</td>\n",
              "      <td>CSGO</td>\n",
              "      <td>TWITTER</td>\n",
              "      <td>N/A</td>\n",
              "      <td>0</td>\n",
              "      <td>0</td>\n",
              "      <td>Text</td>\n",
              "    </tr>\n",
              "    <tr>\n",
              "      <th>4</th>\n",
              "      <td>2023-03-31 19:43:42.590</td>\n",
              "      <td>CSGO</td>\n",
              "      <td>TWITTER</td>\n",
              "      <td>Community Engagement</td>\n",
              "      <td>9517</td>\n",
              "      <td>1215</td>\n",
              "      <td>Video</td>\n",
              "    </tr>\n",
              "  </tbody>\n",
              "</table>\n",
              "</div>\n",
              "      <button class=\"colab-df-convert\" onclick=\"convertToInteractive('df-8ed4401b-6f0a-413e-b60b-c1b1eeb0ab32')\"\n",
              "              title=\"Convert this dataframe to an interactive table.\"\n",
              "              style=\"display:none;\">\n",
              "        \n",
              "  <svg xmlns=\"http://www.w3.org/2000/svg\" height=\"24px\"viewBox=\"0 0 24 24\"\n",
              "       width=\"24px\">\n",
              "    <path d=\"M0 0h24v24H0V0z\" fill=\"none\"/>\n",
              "    <path d=\"M18.56 5.44l.94 2.06.94-2.06 2.06-.94-2.06-.94-.94-2.06-.94 2.06-2.06.94zm-11 1L8.5 8.5l.94-2.06 2.06-.94-2.06-.94L8.5 2.5l-.94 2.06-2.06.94zm10 10l.94 2.06.94-2.06 2.06-.94-2.06-.94-.94-2.06-.94 2.06-2.06.94z\"/><path d=\"M17.41 7.96l-1.37-1.37c-.4-.4-.92-.59-1.43-.59-.52 0-1.04.2-1.43.59L10.3 9.45l-7.72 7.72c-.78.78-.78 2.05 0 2.83L4 21.41c.39.39.9.59 1.41.59.51 0 1.02-.2 1.41-.59l7.78-7.78 2.81-2.81c.8-.78.8-2.07 0-2.86zM5.41 20L4 18.59l7.72-7.72 1.47 1.35L5.41 20z\"/>\n",
              "  </svg>\n",
              "      </button>\n",
              "      \n",
              "  <style>\n",
              "    .colab-df-container {\n",
              "      display:flex;\n",
              "      flex-wrap:wrap;\n",
              "      gap: 12px;\n",
              "    }\n",
              "\n",
              "    .colab-df-convert {\n",
              "      background-color: #E8F0FE;\n",
              "      border: none;\n",
              "      border-radius: 50%;\n",
              "      cursor: pointer;\n",
              "      display: none;\n",
              "      fill: #1967D2;\n",
              "      height: 32px;\n",
              "      padding: 0 0 0 0;\n",
              "      width: 32px;\n",
              "    }\n",
              "\n",
              "    .colab-df-convert:hover {\n",
              "      background-color: #E2EBFA;\n",
              "      box-shadow: 0px 1px 2px rgba(60, 64, 67, 0.3), 0px 1px 3px 1px rgba(60, 64, 67, 0.15);\n",
              "      fill: #174EA6;\n",
              "    }\n",
              "\n",
              "    [theme=dark] .colab-df-convert {\n",
              "      background-color: #3B4455;\n",
              "      fill: #D2E3FC;\n",
              "    }\n",
              "\n",
              "    [theme=dark] .colab-df-convert:hover {\n",
              "      background-color: #434B5C;\n",
              "      box-shadow: 0px 1px 3px 1px rgba(0, 0, 0, 0.15);\n",
              "      filter: drop-shadow(0px 1px 2px rgba(0, 0, 0, 0.3));\n",
              "      fill: #FFFFFF;\n",
              "    }\n",
              "  </style>\n",
              "\n",
              "      <script>\n",
              "        const buttonEl =\n",
              "          document.querySelector('#df-8ed4401b-6f0a-413e-b60b-c1b1eeb0ab32 button.colab-df-convert');\n",
              "        buttonEl.style.display =\n",
              "          google.colab.kernel.accessAllowed ? 'block' : 'none';\n",
              "\n",
              "        async function convertToInteractive(key) {\n",
              "          const element = document.querySelector('#df-8ed4401b-6f0a-413e-b60b-c1b1eeb0ab32');\n",
              "          const dataTable =\n",
              "            await google.colab.kernel.invokeFunction('convertToInteractive',\n",
              "                                                     [key], {});\n",
              "          if (!dataTable) return;\n",
              "\n",
              "          const docLinkHtml = 'Like what you see? Visit the ' +\n",
              "            '<a target=\"_blank\" href=https://colab.research.google.com/notebooks/data_table.ipynb>data table notebook</a>'\n",
              "            + ' to learn more about interactive tables.';\n",
              "          element.innerHTML = '';\n",
              "          dataTable['output_type'] = 'display_data';\n",
              "          await google.colab.output.renderOutput(dataTable, element);\n",
              "          const docLink = document.createElement('div');\n",
              "          docLink.innerHTML = docLinkHtml;\n",
              "          element.appendChild(docLink);\n",
              "        }\n",
              "      </script>\n",
              "    </div>\n",
              "  </div>\n",
              "  "
            ]
          },
          "metadata": {},
          "execution_count": 1
        }
      ],
      "source": [
        "import pandas as pd\n",
        "\n",
        "# Read the data from the Google Sheet\n",
        "df = pd.read_excel(\"/content/social_data.xlsx\")\n",
        "\n",
        "df.head()"
      ]
    },
    {
      "cell_type": "markdown",
      "source": [
        "**2. Calculate the required values**"
      ],
      "metadata": {
        "id": "pjwNGfIYWjuD"
      }
    },
    {
      "cell_type": "code",
      "source": [
        "# Calculate the average engagement rate for each media type\n",
        "avg_engagement_rate_by_media_type = df.groupby(\"Account Type\").mean()[\"Total Engagements\"] / (df.groupby(\"Account Type\").mean()[\"Total Engagements\"].sum()) * 100\n",
        "\n",
        "# Sort the average engagement rates in descending order\n",
        "avg_engagement_rate_by_media_type = avg_engagement_rate_by_media_type.sort_values(ascending=False)\n",
        "\n",
        "# Print the top 5 media types with the highest average engagement rates\n",
        "print(avg_engagement_rate_by_media_type)"
      ],
      "metadata": {
        "colab": {
          "base_uri": "https://localhost:8080/"
        },
        "id": "WA_B4CB8WiO_",
        "outputId": "625f36b0-2b75-4a6c-e3dd-a3cc88b7fbe6"
      },
      "execution_count": null,
      "outputs": [
        {
          "output_type": "stream",
          "name": "stdout",
          "text": [
            "Account Type\n",
            "FBPAGE              86.199112\n",
            "TWITTER              6.062864\n",
            "TIKTOK_BUSINESS      3.266440\n",
            "INSTAGRAM            2.798001\n",
            "YOUTUBE              0.918523\n",
            "LINKEDIN_COMPANY     0.755060\n",
            "Name: Total Engagements, dtype: float64\n"
          ]
        },
        {
          "output_type": "stream",
          "name": "stderr",
          "text": [
            "<ipython-input-4-1ec611adefad>:2: FutureWarning: The default value of numeric_only in DataFrameGroupBy.mean is deprecated. In a future version, numeric_only will default to False. Either specify numeric_only or select only columns which should be valid for the function.\n",
            "  avg_engagement_rate_by_media_type = df.groupby(\"Account Type\").mean()[\"Total Engagements\"] / (df.groupby(\"Account Type\").mean()[\"Total Engagements\"].sum()) * 100\n",
            "<ipython-input-4-1ec611adefad>:2: FutureWarning: The default value of numeric_only in DataFrameGroupBy.mean is deprecated. In a future version, numeric_only will default to False. Either specify numeric_only or select only columns which should be valid for the function.\n",
            "  avg_engagement_rate_by_media_type = df.groupby(\"Account Type\").mean()[\"Total Engagements\"] / (df.groupby(\"Account Type\").mean()[\"Total Engagements\"].sum()) * 100\n"
          ]
        }
      ]
    },
    {
      "cell_type": "markdown",
      "source": [
        "**3. Plot the output for better understanding**"
      ],
      "metadata": {
        "id": "dbSnIHndXcAY"
      }
    },
    {
      "cell_type": "code",
      "source": [
        "import pandas as pd\n",
        "import matplotlib.pyplot as plt\n",
        "\n",
        "# Create a DataFrame\n",
        "data_df = pd.DataFrame(avg_engagement_rate_by_media_type).reset_index()\n",
        "data_df.columns = ['Account Type', 'Average Engagement Rate (%)']\n",
        "\n",
        "# Print the DataFrame\n",
        "print(data_df.to_string(index=False))\n",
        "\n",
        "# Create a bar plot\n",
        "plt.figure(figsize=(10, 6))\n",
        "plt.barh(data_df['Account Type'], data_df['Average Engagement Rate (%)'], color='skyblue')\n",
        "plt.xlabel('Average Engagement Rate (%)')\n",
        "plt.title('Average Engagement Rate by Account Type')\n",
        "plt.gca().invert_yaxis()  # to display the highest value at the top\n",
        "plt.show()\n"
      ],
      "metadata": {
        "colab": {
          "base_uri": "https://localhost:8080/",
          "height": 689
        },
        "id": "ZvyVQVYrXf94",
        "outputId": "4ffcf20e-82ae-4b42-95ed-640948bf712a"
      },
      "execution_count": null,
      "outputs": [
        {
          "output_type": "stream",
          "name": "stdout",
          "text": [
            "    Account Type  Average Engagement Rate (%)\n",
            "          FBPAGE                    86.199112\n",
            "         TWITTER                     6.062864\n",
            " TIKTOK_BUSINESS                     3.266440\n",
            "       INSTAGRAM                     2.798001\n",
            "         YOUTUBE                     0.918523\n",
            "LINKEDIN_COMPANY                     0.755060\n"
          ]
        },
        {
          "output_type": "display_data",
          "data": {
            "text/plain": [
              "<Figure size 1000x600 with 1 Axes>"
            ],
            "image/png": "[encoded data removed]"
          },
          "metadata": {}
        }
      ]
    },
    {
      "cell_type": "markdown",
      "source": [
        "As we can see FBPAGE has the highest engagements, but according to me Instagram and YouTube are the best platform these days for gaming so we should try to post contents to engage more and more audiences to get our message crystal clear."
      ],
      "metadata": {
        "id": "hev3QHp2bkgo"
      }
    }
  ]
}
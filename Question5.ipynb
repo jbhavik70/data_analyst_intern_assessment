{
  "nbformat": 4,
  "nbformat_minor": 0,
  "metadata": {
    "colab": {
      "provenance": []
    },
    "kernelspec": {
      "name": "python3",
      "display_name": "Python 3"
    },
    "language_info": {
      "name": "python"
    }
  },
  "cells": [
    {
      "cell_type": "markdown",
      "source": [
        "**Question 5**\n",
        "\n",
        "What is our best performing campaign?"
      ],
      "metadata": {
        "id": "am-0A53BYWbR"
      }
    },
    {
      "cell_type": "markdown",
      "source": [
        "**1. Import the data set**"
      ],
      "metadata": {
        "id": "Li3Y9_xEYbcP"
      }
    },
    {
      "cell_type": "code",
      "source": [
        "import pandas as pd\n",
        "\n",
        "# Read the data from the Google Sheet\n",
        "df = pd.read_excel(\"/content/social_data.xlsx\")\n",
        "\n",
        "# Drop all the values with N/A in Campaign Name column\n",
        "df = df[~df['Campaign Name'].str.contains(\"N/A\")]\n",
        "\n",
        "df.head()"
      ],
      "metadata": {
        "colab": {
          "base_uri": "https://localhost:8080/",
          "height": 206
        },
        "id": "oenSMP5FYepB",
        "outputId": "c5deb5b8-3936-4721-95c2-9fe746be766a"
      },
      "execution_count": null,
      "outputs": [
        {
          "output_type": "execute_result",
          "data": {
            "text/plain": [
              "            Published Date   Account Account Type          Campaign Name  \\\n",
              "4  2023-03-31 19:43:42.590      CSGO      TWITTER  Community Engagement    \n",
              "6  2023-03-31 19:40:57.383      CSGO      TWITTER  Community Engagement    \n",
              "7  2023-03-31 19:23:57.349      CSGO      TWITTER  Community Engagement    \n",
              "9  2023-03-31 18:55:51.855      CSGO      TWITTER  Community Engagement    \n",
              "10 2023-03-31 18:36:01.000  General        FBPAGE  Community Engagement    \n",
              "\n",
              "    Total Impressions  Total Engagements Media Type  \n",
              "4                9517               1215      Video  \n",
              "6                1882                 83      Photo  \n",
              "7               17892               3076      Video  \n",
              "9               13874               1447      Video  \n",
              "10              37692               8044      Photo  "
            ],
            "text/html": [
              "\n",
              "  <div id=\"df-99962cf5-d2bb-48d3-9045-a1003335076e\">\n",
              "    <div class=\"colab-df-container\">\n",
              "      <div>\n",
              "<style scoped>\n",
              "    .dataframe tbody tr th:only-of-type {\n",
              "        vertical-align: middle;\n",
              "    }\n",
              "\n",
              "    .dataframe tbody tr th {\n",
              "        vertical-align: top;\n",
              "    }\n",
              "\n",
              "    .dataframe thead th {\n",
              "        text-align: right;\n",
              "    }\n",
              "</style>\n",
              "<table border=\"1\" class=\"dataframe\">\n",
              "  <thead>\n",
              "    <tr style=\"text-align: right;\">\n",
              "      <th></th>\n",
              "      <th>Published Date</th>\n",
              "      <th>Account</th>\n",
              "      <th>Account Type</th>\n",
              "      <th>Campaign Name</th>\n",
              "      <th>Total Impressions</th>\n",
              "      <th>Total Engagements</th>\n",
              "      <th>Media Type</th>\n",
              "    </tr>\n",
              "  </thead>\n",
              "  <tbody>\n",
              "    <tr>\n",
              "      <th>4</th>\n",
              "      <td>2023-03-31 19:43:42.590</td>\n",
              "      <td>CSGO</td>\n",
              "      <td>TWITTER</td>\n",
              "      <td>Community Engagement</td>\n",
              "      <td>9517</td>\n",
              "      <td>1215</td>\n",
              "      <td>Video</td>\n",
              "    </tr>\n",
              "    <tr>\n",
              "      <th>6</th>\n",
              "      <td>2023-03-31 19:40:57.383</td>\n",
              "      <td>CSGO</td>\n",
              "      <td>TWITTER</td>\n",
              "      <td>Community Engagement</td>\n",
              "      <td>1882</td>\n",
              "      <td>83</td>\n",
              "      <td>Photo</td>\n",
              "    </tr>\n",
              "    <tr>\n",
              "      <th>7</th>\n",
              "      <td>2023-03-31 19:23:57.349</td>\n",
              "      <td>CSGO</td>\n",
              "      <td>TWITTER</td>\n",
              "      <td>Community Engagement</td>\n",
              "      <td>17892</td>\n",
              "      <td>3076</td>\n",
              "      <td>Video</td>\n",
              "    </tr>\n",
              "    <tr>\n",
              "      <th>9</th>\n",
              "      <td>2023-03-31 18:55:51.855</td>\n",
              "      <td>CSGO</td>\n",
              "      <td>TWITTER</td>\n",
              "      <td>Community Engagement</td>\n",
              "      <td>13874</td>\n",
              "      <td>1447</td>\n",
              "      <td>Video</td>\n",
              "    </tr>\n",
              "    <tr>\n",
              "      <th>10</th>\n",
              "      <td>2023-03-31 18:36:01.000</td>\n",
              "      <td>General</td>\n",
              "      <td>FBPAGE</td>\n",
              "      <td>Community Engagement</td>\n",
              "      <td>37692</td>\n",
              "      <td>8044</td>\n",
              "      <td>Photo</td>\n",
              "    </tr>\n",
              "  </tbody>\n",
              "</table>\n",
              "</div>\n",
              "      <button class=\"colab-df-convert\" onclick=\"convertToInteractive('df-99962cf5-d2bb-48d3-9045-a1003335076e')\"\n",
              "              title=\"Convert this dataframe to an interactive table.\"\n",
              "              style=\"display:none;\">\n",
              "        \n",
              "  <svg xmlns=\"http://www.w3.org/2000/svg\" height=\"24px\"viewBox=\"0 0 24 24\"\n",
              "       width=\"24px\">\n",
              "    <path d=\"M0 0h24v24H0V0z\" fill=\"none\"/>\n",
              "    <path d=\"M18.56 5.44l.94 2.06.94-2.06 2.06-.94-2.06-.94-.94-2.06-.94 2.06-2.06.94zm-11 1L8.5 8.5l.94-2.06 2.06-.94-2.06-.94L8.5 2.5l-.94 2.06-2.06.94zm10 10l.94 2.06.94-2.06 2.06-.94-2.06-.94-.94-2.06-.94 2.06-2.06.94z\"/><path d=\"M17.41 7.96l-1.37-1.37c-.4-.4-.92-.59-1.43-.59-.52 0-1.04.2-1.43.59L10.3 9.45l-7.72 7.72c-.78.78-.78 2.05 0 2.83L4 21.41c.39.39.9.59 1.41.59.51 0 1.02-.2 1.41-.59l7.78-7.78 2.81-2.81c.8-.78.8-2.07 0-2.86zM5.41 20L4 18.59l7.72-7.72 1.47 1.35L5.41 20z\"/>\n",
              "  </svg>\n",
              "      </button>\n",
              "      \n",
              "  <style>\n",
              "    .colab-df-container {\n",
              "      display:flex;\n",
              "      flex-wrap:wrap;\n",
              "      gap: 12px;\n",
              "    }\n",
              "\n",
              "    .colab-df-convert {\n",
              "      background-color: #E8F0FE;\n",
              "      border: none;\n",
              "      border-radius: 50%;\n",
              "      cursor: pointer;\n",
              "      display: none;\n",
              "      fill: #1967D2;\n",
              "      height: 32px;\n",
              "      padding: 0 0 0 0;\n",
              "      width: 32px;\n",
              "    }\n",
              "\n",
              "    .colab-df-convert:hover {\n",
              "      background-color: #E2EBFA;\n",
              "      box-shadow: 0px 1px 2px rgba(60, 64, 67, 0.3), 0px 1px 3px 1px rgba(60, 64, 67, 0.15);\n",
              "      fill: #174EA6;\n",
              "    }\n",
              "\n",
              "    [theme=dark] .colab-df-convert {\n",
              "      background-color: #3B4455;\n",
              "      fill: #D2E3FC;\n",
              "    }\n",
              "\n",
              "    [theme=dark] .colab-df-convert:hover {\n",
              "      background-color: #434B5C;\n",
              "      box-shadow: 0px 1px 3px 1px rgba(0, 0, 0, 0.15);\n",
              "      filter: drop-shadow(0px 1px 2px rgba(0, 0, 0, 0.3));\n",
              "      fill: #FFFFFF;\n",
              "    }\n",
              "  </style>\n",
              "\n",
              "      <script>\n",
              "        const buttonEl =\n",
              "          document.querySelector('#df-99962cf5-d2bb-48d3-9045-a1003335076e button.colab-df-convert');\n",
              "        buttonEl.style.display =\n",
              "          google.colab.kernel.accessAllowed ? 'block' : 'none';\n",
              "\n",
              "        async function convertToInteractive(key) {\n",
              "          const element = document.querySelector('#df-99962cf5-d2bb-48d3-9045-a1003335076e');\n",
              "          const dataTable =\n",
              "            await google.colab.kernel.invokeFunction('convertToInteractive',\n",
              "                                                     [key], {});\n",
              "          if (!dataTable) return;\n",
              "\n",
              "          const docLinkHtml = 'Like what you see? Visit the ' +\n",
              "            '<a target=\"_blank\" href=https://colab.research.google.com/notebooks/data_table.ipynb>data table notebook</a>'\n",
              "            + ' to learn more about interactive tables.';\n",
              "          element.innerHTML = '';\n",
              "          dataTable['output_type'] = 'display_data';\n",
              "          await google.colab.output.renderOutput(dataTable, element);\n",
              "          const docLink = document.createElement('div');\n",
              "          docLink.innerHTML = docLinkHtml;\n",
              "          element.appendChild(docLink);\n",
              "        }\n",
              "      </script>\n",
              "    </div>\n",
              "  </div>\n",
              "  "
            ]
          },
          "metadata": {},
          "execution_count": 13
        }
      ]
    },
    {
      "cell_type": "markdown",
      "source": [
        "**2. Calculate the required values**"
      ],
      "metadata": {
        "id": "DK4asukNYh8F"
      }
    },
    {
      "cell_type": "code",
      "source": [
        "# Calculate the average engagement rate for each campaign\n",
        "avg_engagement_rate_by_campaign = df.groupby(\"Campaign Name\").mean()[\"Total Engagements\"] / (df.groupby(\"Campaign Name\").mean()[\"Total Engagements\"].sum()) * 100\n",
        "\n",
        "# Sort the average engagement rates in descending order\n",
        "avg_engagement_rate_by_campaign = avg_engagement_rate_by_campaign.sort_values(ascending=False)\n",
        "\n",
        "# Print the top 5 campaigns with the highest average engagement rates\n",
        "print(avg_engagement_rate_by_campaign)"
      ],
      "metadata": {
        "colab": {
          "base_uri": "https://localhost:8080/"
        },
        "id": "kj6Xw8mJYlFz",
        "outputId": "8e6878da-9609-43de-e96b-556f40eb4677"
      },
      "execution_count": null,
      "outputs": [
        {
          "output_type": "stream",
          "name": "stdout",
          "text": [
            "Campaign Name\n",
            "Community Engagement     67.248138\n",
            "Evil Exhibited           20.473934\n",
            "Evergreen                12.277928\n",
            "Name: Total Engagements, dtype: float64\n"
          ]
        },
        {
          "output_type": "stream",
          "name": "stderr",
          "text": [
            "<ipython-input-14-ce1ee7d4fb07>:2: FutureWarning: The default value of numeric_only in DataFrameGroupBy.mean is deprecated. In a future version, numeric_only will default to False. Either specify numeric_only or select only columns which should be valid for the function.\n",
            "  avg_engagement_rate_by_campaign = df.groupby(\"Campaign Name\").mean()[\"Total Engagements\"] / (df.groupby(\"Campaign Name\").mean()[\"Total Engagements\"].sum()) * 100\n",
            "<ipython-input-14-ce1ee7d4fb07>:2: FutureWarning: The default value of numeric_only in DataFrameGroupBy.mean is deprecated. In a future version, numeric_only will default to False. Either specify numeric_only or select only columns which should be valid for the function.\n",
            "  avg_engagement_rate_by_campaign = df.groupby(\"Campaign Name\").mean()[\"Total Engagements\"] / (df.groupby(\"Campaign Name\").mean()[\"Total Engagements\"].sum()) * 100\n"
          ]
        }
      ]
    },
    {
      "cell_type": "markdown",
      "source": [
        "**3. Plot the output for better understandings**"
      ],
      "metadata": {
        "id": "RhDogy2IamQm"
      }
    },
    {
      "cell_type": "code",
      "source": [
        "import matplotlib.pyplot as plt\n",
        "\n",
        "# Create a DataFrame of the results\n",
        "df_avg_engagement_rate = pd.DataFrame({\"Campaign Name\": avg_engagement_rate_by_campaign.index, \"Average Engagement Rate\": avg_engagement_rate_by_campaign.values})\n",
        "\n",
        "# Plot the data\n",
        "plt.bar(df_avg_engagement_rate[\"Campaign Name\"], df_avg_engagement_rate[\"Average Engagement Rate\"], width=0.5, color=\"green\")\n",
        "plt.xlabel(\"Campaign Name\")\n",
        "plt.ylabel(\"Average Engagement Rate\")\n",
        "plt.title(\"Average Engagement Rate by Campaign\")\n",
        "plt.show()"
      ],
      "metadata": {
        "colab": {
          "base_uri": "https://localhost:8080/",
          "height": 472
        },
        "id": "t86aF5f8aqF2",
        "outputId": "cd3b44fa-c97e-48e9-8c72-2319499583cd"
      },
      "execution_count": null,
      "outputs": [
        {
          "output_type": "display_data",
          "data": {
            "text/plain": [
              "<Figure size 640x480 with 1 Axes>"
            ],
            "image/png": "[encoded data removed]"
          },
          "metadata": {}
        }
      ]
    },
    {
      "cell_type": "markdown",
      "source": [
        "As we can see Community Engagement is best performing campaign, so it is a good thing as we stay connected to the community and try to engage with them more."
      ],
      "metadata": {
        "id": "ZZ_N1c7Mb7bG"
      }
    }
  ]
}
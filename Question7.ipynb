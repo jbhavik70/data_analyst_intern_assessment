{
  "nbformat": 4,
  "nbformat_minor": 0,
  "metadata": {
    "colab": {
      "provenance": []
    },
    "kernelspec": {
      "name": "python3",
      "display_name": "Python 3"
    },
    "language_info": {
      "name": "python"
    }
  },
  "cells": [
    {
      "cell_type": "markdown",
      "source": [
        "**Question 7**\n",
        "\n",
        "What suggestions would you give to the social media team if they want to expand their presence (e.g. if our CSGO youtube channel is doing well should we expand to TikTok)?"
      ],
      "metadata": {
        "id": "Cs2ZPQm2iLFd"
      }
    },
    {
      "cell_type": "markdown",
      "source": [
        "**1. Import the data set**"
      ],
      "metadata": {
        "id": "P9fgh8S7iPx9"
      }
    },
    {
      "cell_type": "code",
      "execution_count": 8,
      "metadata": {
        "colab": {
          "base_uri": "https://localhost:8080/",
          "height": 206
        },
        "id": "5Da9ehf-iHp-",
        "outputId": "0ed23380-c0ca-4567-dff0-fd20065e5b26"
      },
      "outputs": [
        {
          "output_type": "execute_result",
          "data": {
            "text/plain": [
              "           Published Date Account Account Type          Campaign Name  \\\n",
              "0 2023-03-31 19:55:43.192    CSGO      TWITTER                   N/A    \n",
              "1 2023-03-31 19:49:35.243    CSGO      TWITTER                   N/A    \n",
              "2 2023-03-31 19:49:33.535    CSGO      TWITTER                   N/A    \n",
              "3 2023-03-31 19:49:31.583    CSGO      TWITTER                   N/A    \n",
              "4 2023-03-31 19:43:42.590    CSGO      TWITTER  Community Engagement    \n",
              "\n",
              "   Total Impressions  Total Engagements Media Type  \n",
              "0                  0                  0       Text  \n",
              "1                  0                  0       Text  \n",
              "2                  0                  0       Text  \n",
              "3                  0                  0       Text  \n",
              "4               9517               1215      Video  "
            ],
            "text/html": [
              "\n",
              "  <div id=\"df-c65beebe-856d-4037-9502-c3d8c451dd95\">\n",
              "    <div class=\"colab-df-container\">\n",
              "      <div>\n",
              "<style scoped>\n",
              "    .dataframe tbody tr th:only-of-type {\n",
              "        vertical-align: middle;\n",
              "    }\n",
              "\n",
              "    .dataframe tbody tr th {\n",
              "        vertical-align: top;\n",
              "    }\n",
              "\n",
              "    .dataframe thead th {\n",
              "        text-align: right;\n",
              "    }\n",
              "</style>\n",
              "<table border=\"1\" class=\"dataframe\">\n",
              "  <thead>\n",
              "    <tr style=\"text-align: right;\">\n",
              "      <th></th>\n",
              "      <th>Published Date</th>\n",
              "      <th>Account</th>\n",
              "      <th>Account Type</th>\n",
              "      <th>Campaign Name</th>\n",
              "      <th>Total Impressions</th>\n",
              "      <th>Total Engagements</th>\n",
              "      <th>Media Type</th>\n",
              "    </tr>\n",
              "  </thead>\n",
              "  <tbody>\n",
              "    <tr>\n",
              "      <th>0</th>\n",
              "      <td>2023-03-31 19:55:43.192</td>\n",
              "      <td>CSGO</td>\n",
              "      <td>TWITTER</td>\n",
              "      <td>N/A</td>\n",
              "      <td>0</td>\n",
              "      <td>0</td>\n",
              "      <td>Text</td>\n",
              "    </tr>\n",
              "    <tr>\n",
              "      <th>1</th>\n",
              "      <td>2023-03-31 19:49:35.243</td>\n",
              "      <td>CSGO</td>\n",
              "      <td>TWITTER</td>\n",
              "      <td>N/A</td>\n",
              "      <td>0</td>\n",
              "      <td>0</td>\n",
              "      <td>Text</td>\n",
              "    </tr>\n",
              "    <tr>\n",
              "      <th>2</th>\n",
              "      <td>2023-03-31 19:49:33.535</td>\n",
              "      <td>CSGO</td>\n",
              "      <td>TWITTER</td>\n",
              "      <td>N/A</td>\n",
              "      <td>0</td>\n",
              "      <td>0</td>\n",
              "      <td>Text</td>\n",
              "    </tr>\n",
              "    <tr>\n",
              "      <th>3</th>\n",
              "      <td>2023-03-31 19:49:31.583</td>\n",
              "      <td>CSGO</td>\n",
              "      <td>TWITTER</td>\n",
              "      <td>N/A</td>\n",
              "      <td>0</td>\n",
              "      <td>0</td>\n",
              "      <td>Text</td>\n",
              "    </tr>\n",
              "    <tr>\n",
              "      <th>4</th>\n",
              "      <td>2023-03-31 19:43:42.590</td>\n",
              "      <td>CSGO</td>\n",
              "      <td>TWITTER</td>\n",
              "      <td>Community Engagement</td>\n",
              "      <td>9517</td>\n",
              "      <td>1215</td>\n",
              "      <td>Video</td>\n",
              "    </tr>\n",
              "  </tbody>\n",
              "</table>\n",
              "</div>\n",
              "      <button class=\"colab-df-convert\" onclick=\"convertToInteractive('df-c65beebe-856d-4037-9502-c3d8c451dd95')\"\n",
              "              title=\"Convert this dataframe to an interactive table.\"\n",
              "              style=\"display:none;\">\n",
              "        \n",
              "  <svg xmlns=\"http://www.w3.org/2000/svg\" height=\"24px\"viewBox=\"0 0 24 24\"\n",
              "       width=\"24px\">\n",
              "    <path d=\"M0 0h24v24H0V0z\" fill=\"none\"/>\n",
              "    <path d=\"M18.56 5.44l.94 2.06.94-2.06 2.06-.94-2.06-.94-.94-2.06-.94 2.06-2.06.94zm-11 1L8.5 8.5l.94-2.06 2.06-.94-2.06-.94L8.5 2.5l-.94 2.06-2.06.94zm10 10l.94 2.06.94-2.06 2.06-.94-2.06-.94-.94-2.06-.94 2.06-2.06.94z\"/><path d=\"M17.41 7.96l-1.37-1.37c-.4-.4-.92-.59-1.43-.59-.52 0-1.04.2-1.43.59L10.3 9.45l-7.72 7.72c-.78.78-.78 2.05 0 2.83L4 21.41c.39.39.9.59 1.41.59.51 0 1.02-.2 1.41-.59l7.78-7.78 2.81-2.81c.8-.78.8-2.07 0-2.86zM5.41 20L4 18.59l7.72-7.72 1.47 1.35L5.41 20z\"/>\n",
              "  </svg>\n",
              "      </button>\n",
              "      \n",
              "  <style>\n",
              "    .colab-df-container {\n",
              "      display:flex;\n",
              "      flex-wrap:wrap;\n",
              "      gap: 12px;\n",
              "    }\n",
              "\n",
              "    .colab-df-convert {\n",
              "      background-color: #E8F0FE;\n",
              "      border: none;\n",
              "      border-radius: 50%;\n",
              "      cursor: pointer;\n",
              "      display: none;\n",
              "      fill: #1967D2;\n",
              "      height: 32px;\n",
              "      padding: 0 0 0 0;\n",
              "      width: 32px;\n",
              "    }\n",
              "\n",
              "    .colab-df-convert:hover {\n",
              "      background-color: #E2EBFA;\n",
              "      box-shadow: 0px 1px 2px rgba(60, 64, 67, 0.3), 0px 1px 3px 1px rgba(60, 64, 67, 0.15);\n",
              "      fill: #174EA6;\n",
              "    }\n",
              "\n",
              "    [theme=dark] .colab-df-convert {\n",
              "      background-color: #3B4455;\n",
              "      fill: #D2E3FC;\n",
              "    }\n",
              "\n",
              "    [theme=dark] .colab-df-convert:hover {\n",
              "      background-color: #434B5C;\n",
              "      box-shadow: 0px 1px 3px 1px rgba(0, 0, 0, 0.15);\n",
              "      filter: drop-shadow(0px 1px 2px rgba(0, 0, 0, 0.3));\n",
              "      fill: #FFFFFF;\n",
              "    }\n",
              "  </style>\n",
              "\n",
              "      <script>\n",
              "        const buttonEl =\n",
              "          document.querySelector('#df-c65beebe-856d-4037-9502-c3d8c451dd95 button.colab-df-convert');\n",
              "        buttonEl.style.display =\n",
              "          google.colab.kernel.accessAllowed ? 'block' : 'none';\n",
              "\n",
              "        async function convertToInteractive(key) {\n",
              "          const element = document.querySelector('#df-c65beebe-856d-4037-9502-c3d8c451dd95');\n",
              "          const dataTable =\n",
              "            await google.colab.kernel.invokeFunction('convertToInteractive',\n",
              "                                                     [key], {});\n",
              "          if (!dataTable) return;\n",
              "\n",
              "          const docLinkHtml = 'Like what you see? Visit the ' +\n",
              "            '<a target=\"_blank\" href=https://colab.research.google.com/notebooks/data_table.ipynb>data table notebook</a>'\n",
              "            + ' to learn more about interactive tables.';\n",
              "          element.innerHTML = '';\n",
              "          dataTable['output_type'] = 'display_data';\n",
              "          await google.colab.output.renderOutput(dataTable, element);\n",
              "          const docLink = document.createElement('div');\n",
              "          docLink.innerHTML = docLinkHtml;\n",
              "          element.appendChild(docLink);\n",
              "        }\n",
              "      </script>\n",
              "    </div>\n",
              "  </div>\n",
              "  "
            ]
          },
          "metadata": {},
          "execution_count": 8
        }
      ],
      "source": [
        "import pandas as pd\n",
        "\n",
        "# Read the data from the Google Sheet\n",
        "df = pd.read_excel(\"/content/social_data.xlsx\")\n",
        "\n",
        "df.head()"
      ]
    },
    {
      "cell_type": "markdown",
      "source": [
        "**2. Calculate the required results**"
      ],
      "metadata": {
        "id": "KTatPWT0lHNN"
      }
    },
    {
      "cell_type": "code",
      "source": [
        "\n",
        "# Get the target audience\n",
        "target_audience = \"CSGO\"\n",
        "\n",
        "# Calculate the popularity of each social media platform\n",
        "platform_popularity = {}\n",
        "for platform in df[\"Account Type\"]:\n",
        "    platform_popularity[platform] = df[df[\"Account Type\"] == platform][\"Total Engagements\"].sum()\n",
        "\n",
        "# Sort the platforms by popularity\n",
        "platform_popularity = sorted(platform_popularity.items(), key=lambda x: x[1], reverse=True)\n",
        "\n",
        "# Print the top 5 platforms\n",
        "print(platform_popularity)\n"
      ],
      "metadata": {
        "colab": {
          "base_uri": "https://localhost:8080/"
        },
        "id": "zegkgPYRiYZV",
        "outputId": "02522f52-c3b1-4399-a08f-08d1d2fe220c"
      },
      "execution_count": 9,
      "outputs": [
        {
          "output_type": "stream",
          "name": "stdout",
          "text": [
            "[('FBPAGE', 2577284), ('TWITTER', 604559), ('INSTAGRAM', 84087), ('TIKTOK_BUSINESS', 18865), ('YOUTUBE', 10328), ('LINKEDIN_COMPANY', 849)]\n"
          ]
        }
      ]
    },
    {
      "cell_type": "markdown",
      "source": [
        "**3. Plot the output for better understanding ** "
      ],
      "metadata": {
        "id": "xNIxaa5ElAIM"
      }
    },
    {
      "cell_type": "code",
      "source": [
        "import matplotlib.pyplot as plt\n",
        "\n",
        "# Unpack the platform names and their corresponding popularity\n",
        "platforms, popularity = zip(*platform_popularity)\n",
        "\n",
        "# Create a DataFrame for easy plotting\n",
        "df_popularity = pd.DataFrame({\n",
        "    'Platform': platforms,\n",
        "    'Popularity': popularity\n",
        "})\n",
        "\n",
        "# Sort the DataFrame by popularity for better visualization\n",
        "df_popularity = df_popularity.sort_values(by='Popularity', ascending=True)\n",
        "\n",
        "# Create a horizontal bar plot\n",
        "plt.barh(df_popularity['Platform'], df_popularity['Popularity'], color='skyblue')\n",
        "plt.xlabel('Total Engagements')\n",
        "plt.ylabel('Platform')\n",
        "plt.title('Popularity of Platforms based on Total Engagements')\n",
        "plt.show()\n"
      ],
      "metadata": {
        "colab": {
          "base_uri": "https://localhost:8080/",
          "height": 472
        },
        "id": "y2Y-vhAOkEPX",
        "outputId": "71ef72b8-3e90-4101-e109-1eb6b466e77a"
      },
      "execution_count": 11,
      "outputs": [
        {
          "output_type": "display_data",
          "data": {
            "text/plain": [
              "<Figure size 640x480 with 1 Axes>"
            ],
            "image/png": "[encoded data removed]"
          },
          "metadata": {}
        }
      ]
    },
    {
      "cell_type": "markdown",
      "source": [
        "As we can see in respect to our target variable **CSGO**, FBPAGE has the highest engagement. So we should maintain the engagement in TikTok too."
      ],
      "metadata": {
        "id": "j-aMigQykh92"
      }
    }
  ]
}